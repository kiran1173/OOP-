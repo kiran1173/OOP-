{
  "nbformat": 4,
  "nbformat_minor": 0,
  "metadata": {
    "colab": {
      "provenance": []
    },
    "kernelspec": {
      "name": "python3",
      "display_name": "Python 3"
    },
    "language_info": {
      "name": "python"
    }
  },
  "cells": [
    {
      "cell_type": "markdown",
      "source": [
        "#Python OOPs Questions"
      ],
      "metadata": {
        "id": "_q5EDZmjQwhH"
      }
    },
    {
      "cell_type": "markdown",
      "source": [
        "# 1. **What is Object-Oriented Programming (OOP)?**\n",
        "   -  Object-Oriented Programming (OOP) is a method of programming where the focus is on objects rather than functions. An object is an entity that contains both data (attributes) and behavior (methods). OOP helps to represent real-world problems in code by grouping related data and functions together. The four major principles of OOP are Encapsulation (data hiding), Abstraction (hiding complexity), Inheritance (reusing code), and Polymorphism (many forms of functions/objects). This makes OOP more structured, reusable, and easier to maintain compared to procedural programming."
      ],
      "metadata": {
        "id": "Xn-rKP1YSVd4"
      }
    },
    {
      "cell_type": "code",
      "source": [
        "class Car:\n",
        "    def __init__(self, brand):\n",
        "        self.brand = brand\n",
        "\n",
        "    def drive(self):\n",
        "        print(f\"{self.brand} is driving\")\n",
        "\n",
        "car1 = Car(\"Tesla\")\n",
        "car1.drive()"
      ],
      "metadata": {
        "colab": {
          "base_uri": "https://localhost:8080/"
        },
        "id": "RD2OZAYfRQq_",
        "outputId": "7aecd1cb-2d81-43ed-a958-fa09c2571f3c"
      },
      "execution_count": null,
      "outputs": [
        {
          "output_type": "stream",
          "name": "stdout",
          "text": [
            "Tesla is driving\n"
          ]
        }
      ]
    },
    {
      "cell_type": "markdown",
      "source": [
        "# **2. What is a class in OOP?**\n",
        "   - A class is the blueprint or template for creating objects. It defines attributes (variables) and methods (functions) but does not consume memory until an object is created. Classes provide structure to programs and allow multiple objects to be created from the same definition. For example, a Student class can define what every student has (name, roll number) and does (study)."
      ],
      "metadata": {
        "id": "45culGcESvAa"
      }
    },
    {
      "cell_type": "code",
      "source": [
        "class Student:\n",
        "    def __init__(self, name, roll):\n",
        "        self.name = name\n",
        "        self.roll = roll\n",
        "\n",
        "    def study(self):\n",
        "        print(f\"{self.name} is studying\")\n",
        "\n",
        "s1 = Student(\"Akanksha\", 101)\n",
        "s1.study()"
      ],
      "metadata": {
        "colab": {
          "base_uri": "https://localhost:8080/"
        },
        "id": "FnOtb-g3S3gn",
        "outputId": "af48bd48-2ce6-48e1-a140-5a46693ec678"
      },
      "execution_count": null,
      "outputs": [
        {
          "output_type": "stream",
          "name": "stdout",
          "text": [
            "Akanksha is studying\n"
          ]
        }
      ]
    },
    {
      "cell_type": "markdown",
      "source": [
        "# **3. What is an object in OOP?**\n",
        "   - An object is an instance of a class. It is the actual entity that holds real values and can perform actions defined in the class. While a class is only a definition, an object is the usable form of that class. Multiple objects can be created from one class, and each object can hold different data."
      ],
      "metadata": {
        "id": "BbPY4DstTAV1"
      }
    },
    {
      "cell_type": "code",
      "source": [
        "class Dog:\n",
        "    def __init__(self, name):\n",
        "        self.name = name\n",
        "\n",
        "    def sound(self):\n",
        "        print(f\"{self.name} barks\")\n",
        "\n",
        "dog1 = Dog(\"Tommy\")\n",
        "dog2 = Dog(\"Sheru\")\n",
        "dog1.sound()\n",
        "dog2.sound()"
      ],
      "metadata": {
        "colab": {
          "base_uri": "https://localhost:8080/"
        },
        "id": "AQmoRMVPTKld",
        "outputId": "ba0e851f-4d3a-4b71-e7f9-7cc129799e3b"
      },
      "execution_count": null,
      "outputs": [
        {
          "output_type": "stream",
          "name": "stdout",
          "text": [
            "Tommy barks\n",
            "Sheru barks\n"
          ]
        }
      ]
    },
    {
      "cell_type": "markdown",
      "source": [
        "# **4**. What is the difference between abstraction and encapsulation?\n",
        "   - Abstraction is the process of hiding implementation details and showing only essential features. For example, when we use a print() function, we don’t know how it works internally, we only know the output.\n",
        "   - Encapsulation means bundling data and methods inside a class and restricting direct access. This ensures security by preventing unauthorized modifications."
      ],
      "metadata": {
        "id": "QdbrT3WiTOGI"
      }
    },
    {
      "cell_type": "code",
      "source": [
        "class Bank:\n",
        "    def __init__(self):\n",
        "        self.__balance = 1000   # encapsulated\n",
        "    def show_balance(self):\n",
        "        print(\"Balance:\", self.__balance)\n",
        "\n",
        "b = Bank()\n",
        "b.show_balance()"
      ],
      "metadata": {
        "colab": {
          "base_uri": "https://localhost:8080/"
        },
        "id": "Gx0GYr5bTsHe",
        "outputId": "4bf1dc05-e339-418a-c8fd-f0c345ba78c4"
      },
      "execution_count": null,
      "outputs": [
        {
          "output_type": "stream",
          "name": "stdout",
          "text": [
            "Balance: 1000\n"
          ]
        }
      ]
    },
    {
      "cell_type": "markdown",
      "source": [
        "# **5. What are dunder methods in Python?**\n",
        "   - Dunder (double underscore) methods are special methods in Python used to perform specific operations. They start and end with __. Examples include __init__ (constructor), __str__ (string representation), __len__ (length). These methods make objects behave like built-in types."
      ],
      "metadata": {
        "id": "akEFP3X2T2FZ"
      }
    },
    {
      "cell_type": "code",
      "source": [
        "class Book:\n",
        "    def __str__(self):\n",
        "        return \"Book object\"\n",
        "print(Book())"
      ],
      "metadata": {
        "colab": {
          "base_uri": "https://localhost:8080/"
        },
        "id": "TNfgHzSFT--J",
        "outputId": "d0debb55-1f9b-48bc-97ae-219f4357e37e"
      },
      "execution_count": null,
      "outputs": [
        {
          "output_type": "stream",
          "name": "stdout",
          "text": [
            "Book object\n"
          ]
        }
      ]
    },
    {
      "cell_type": "markdown",
      "source": [
        "# **6. Explain the concept of inheritance in OOP.**\n",
        "   - Inheritance allows a class (child) to use the properties and methods of another class (parent). This avoids code duplication and supports reusability. Python supports single, multiple, and multilevel inheritance."
      ],
      "metadata": {
        "id": "MsqSrcjZUEwt"
      }
    },
    {
      "cell_type": "code",
      "source": [
        "class Animal:\n",
        "    def sound(self): print(\"Animal sound\")\n",
        "class Dog(Animal):\n",
        "    def sound(self): print(\"Dog barks\")\n",
        "\n",
        "d = Dog()\n",
        "d.sound()"
      ],
      "metadata": {
        "colab": {
          "base_uri": "https://localhost:8080/"
        },
        "id": "nAZwrpyTULli",
        "outputId": "062262ca-dbf7-42bf-c82d-bdae06005964"
      },
      "execution_count": null,
      "outputs": [
        {
          "output_type": "stream",
          "name": "stdout",
          "text": [
            "Dog barks\n"
          ]
        }
      ]
    },
    {
      "cell_type": "markdown",
      "source": [
        "# **7**. What is polymorphism in OOP?\n",
        "   - Polymorphism means \"many forms\". In OOP, it allows the same function or method name to be used in different ways depending on the object or data type. This improves flexibility and code reusability. For example, the + operator works differently for integers and strings. In class-based polymorphism, methods of different classes can share the same name but perform different actions. This is powerful in real-world programming because it allows one interface to be used for different types of objects."
      ],
      "metadata": {
        "id": "8_m6NV7CUOf_"
      }
    },
    {
      "cell_type": "code",
      "source": [
        "print(len(\"hello\"))   # String\n",
        "print(len([1,2,3]))   # List"
      ],
      "metadata": {
        "colab": {
          "base_uri": "https://localhost:8080/"
        },
        "id": "l9bzSClkUjAX",
        "outputId": "4ff22ace-fe4e-46fc-f1fc-beec5f94e818"
      },
      "execution_count": null,
      "outputs": [
        {
          "output_type": "stream",
          "name": "stdout",
          "text": [
            "5\n",
            "3\n"
          ]
        }
      ]
    },
    {
      "cell_type": "markdown",
      "source": [
        "# **8**. How is encapsulation achieved in Python?\n",
        "   - Encapsulation means binding data (variables) and methods into a single unit and restricting direct access to some variables. In Python, this is achieved by making variables private using _ or __. Encapsulation increases security by preventing external modification of sensitive data. Getter and setter methods are often used to access or update private variables safely."
      ],
      "metadata": {
        "id": "9x5TGzv2UpAb"
      }
    },
    {
      "cell_type": "code",
      "source": [
        "class Bank:\n",
        "    def __init__(self):\n",
        "        self.__balance = 1000\n",
        "\n",
        "    def get_balance(self):\n",
        "        return self.__balance\n",
        "\n",
        "b = Bank()\n",
        "print(b.get_balance())"
      ],
      "metadata": {
        "colab": {
          "base_uri": "https://localhost:8080/"
        },
        "id": "V0UyAOJzUw44",
        "outputId": "6fdd5bbc-a449-402c-e5b7-d92c52cf0fef"
      },
      "execution_count": null,
      "outputs": [
        {
          "output_type": "stream",
          "name": "stdout",
          "text": [
            "1000\n"
          ]
        }
      ]
    },
    {
      "cell_type": "markdown",
      "source": [
        "# **9**. What is a constructor in Python?\n",
        "   - A constructor is a special method __init__ in Python that is called automatically when an object is created. It initializes the object’s attributes with default or passed values. Without a constructor, we would need to set values manually after creating the object. This makes object creation easy and automatic."
      ],
      "metadata": {
        "id": "gz3ueQoZU3Gl"
      }
    },
    {
      "cell_type": "code",
      "source": [
        "class Student:\n",
        "    def __init__(self, name):\n",
        "        self.name = name\n",
        "\n",
        "s1 = Student(\"Akanksha\")\n",
        "print(s1.name)"
      ],
      "metadata": {
        "colab": {
          "base_uri": "https://localhost:8080/"
        },
        "id": "_D5-THiRU8fv",
        "outputId": "8b0fbdb2-9098-40e7-c259-7985465d225a"
      },
      "execution_count": null,
      "outputs": [
        {
          "output_type": "stream",
          "name": "stdout",
          "text": [
            "Akanksha\n"
          ]
        }
      ]
    },
    {
      "cell_type": "markdown",
      "source": [
        "# **10. What are class and static methods in Python?**"
      ],
      "metadata": {
        "id": "nZFuk-5X89n6"
      }
    },
    {
      "cell_type": "markdown",
      "source": [
        "- Class methods are methods that work on the class rather than an object. They are defined using @classmethod and take cls as a parameter.\n",
        "- Static methods are general functions inside a class that don’t need self or cls. They are defined using @staticmethod"
      ],
      "metadata": {
        "id": "3lbGX_5L87pW"
      }
    },
    {
      "cell_type": "code",
      "source": [
        "class Test:\n",
        "    @classmethod\n",
        "    def show_cls(cls):\n",
        "        print(\"Class method called\")\n",
        "\n",
        "    @staticmethod\n",
        "    def show_stat():\n",
        "        print(\"Static method called\")\n",
        "\n",
        "Test.show_cls()\n",
        "Test.show_stat()\n"
      ],
      "metadata": {
        "colab": {
          "base_uri": "https://localhost:8080/"
        },
        "id": "62uDadnvVJzM",
        "outputId": "b047b728-77a5-4820-9909-6351306940c4"
      },
      "execution_count": null,
      "outputs": [
        {
          "output_type": "stream",
          "name": "stdout",
          "text": [
            "Class method called\n",
            "Static method called\n"
          ]
        }
      ]
    },
    {
      "cell_type": "markdown",
      "source": [
        "# **11. What is method overloading in Python?**"
      ],
      "metadata": {
        "id": "EUmJjx629MN_"
      }
    },
    {
      "cell_type": "markdown",
      "source": [
        "- Method overloading means defining multiple methods with the same name but different parameters. Python doesn’t support it directly, but it can be done using default arguments or *args. This makes methods more flexible to handle different input cases."
      ],
      "metadata": {
        "id": "VOM9KjPV9IMZ"
      }
    },
    {
      "cell_type": "code",
      "source": [
        "def add(a, b=0):\n",
        "    return a+b\n",
        "\n",
        "print(add(5))\n",
        "print(add(5, 10))"
      ],
      "metadata": {
        "colab": {
          "base_uri": "https://localhost:8080/"
        },
        "id": "J-GFK9_5VWaq",
        "outputId": "ad1d7cc7-667d-4e4c-ab18-4d3a2008386c"
      },
      "execution_count": null,
      "outputs": [
        {
          "output_type": "stream",
          "name": "stdout",
          "text": [
            "5\n",
            "15\n"
          ]
        }
      ]
    },
    {
      "cell_type": "markdown",
      "source": [
        "# 12. What is method overriding in OOP?**bold text**"
      ],
      "metadata": {
        "id": "rxdn7OFO9WZX"
      }
    },
    {
      "cell_type": "markdown",
      "source": [
        "- Method overriding occurs when a child class provides a new version of a method that already exists in its parent class. This is used when we want different behavior for the same method in different classes. It’s key in achieving polymorphism in inheritance."
      ],
      "metadata": {
        "id": "ICAnpqH09YBr"
      }
    },
    {
      "cell_type": "code",
      "source": [
        "class Animal:\n",
        "    def sound(self):\n",
        "        print(\"Animal makes sound\")\n",
        "\n",
        "class Dog(Animal):\n",
        "    def sound(self):\n",
        "        print(\"Dog barks\")\n",
        "\n",
        "d = Dog()\n",
        "d.sound()"
      ],
      "metadata": {
        "colab": {
          "base_uri": "https://localhost:8080/"
        },
        "id": "a_DNUGkjVj9p",
        "outputId": "243ca05a-50a4-47c1-f9c9-582a52b1572e"
      },
      "execution_count": null,
      "outputs": [
        {
          "output_type": "stream",
          "name": "stdout",
          "text": [
            "Dog barks\n"
          ]
        }
      ]
    },
    {
      "cell_type": "markdown",
      "source": [
        "# 13. What is a property decorator in Python?**bold text**"
      ],
      "metadata": {
        "id": "IlLuZJDu9ig6"
      }
    },
    {
      "cell_type": "markdown",
      "source": [
        "- The @property decorator is used to define getters in Python. It allows methods to be accessed like attributes without parentheses. It is useful for controlled access to variables while still keeping code simple."
      ],
      "metadata": {
        "id": "11hN6A2S9gAy"
      }
    },
    {
      "cell_type": "code",
      "source": [
        "class Person:\n",
        "    def __init__(self, name):\n",
        "        self._name = name\n",
        "\n",
        "    @property\n",
        "    def name(self):\n",
        "        return self._name\n",
        "\n",
        "p = Person(\"Akanksha\")\n",
        "print(p.name)"
      ],
      "metadata": {
        "colab": {
          "base_uri": "https://localhost:8080/"
        },
        "id": "A-R7jTToVyAe",
        "outputId": "88eab0fd-5aa5-493d-c522-6b8e61ec2c75"
      },
      "execution_count": null,
      "outputs": [
        {
          "output_type": "stream",
          "name": "stdout",
          "text": [
            "Akanksha\n"
          ]
        }
      ]
    },
    {
      "cell_type": "markdown",
      "source": [
        "# 14. Why is polymorphism important in OOP?**bold text**"
      ],
      "metadata": {
        "id": "7YLs2pMa9pHq"
      }
    },
    {
      "cell_type": "markdown",
      "source": [
        "- Polymorphism is important because it allows different objects to be treated through the same interface. It reduces code duplication and increases flexibility. For example, we can call the same method on multiple objects without worrying about their type, making code more general and reusable."
      ],
      "metadata": {
        "id": "6oEO2Isr9m2s"
      }
    },
    {
      "cell_type": "code",
      "source": [
        "for x in [len(\"Hi\"), len([1,2,3,4])]:\n",
        "    print(x)"
      ],
      "metadata": {
        "colab": {
          "base_uri": "https://localhost:8080/"
        },
        "id": "6yG_VraNV_VG",
        "outputId": "cbe91f76-8c37-4505-c94d-f9140230e89f"
      },
      "execution_count": null,
      "outputs": [
        {
          "output_type": "stream",
          "name": "stdout",
          "text": [
            "2\n",
            "4\n"
          ]
        }
      ]
    },
    {
      "cell_type": "markdown",
      "source": [
        "# **15. What is an abstract class in Python?**\n",
        "   - An abstract class in Python is a class that cannot be instantiated directly and is used as a blueprint for other classes. It contains one or more abstract methods (methods declared but not implemented). Abstract classes are useful when you want to define a common interface for all subclasses, ensuring that every subclass provides an implementation for those methods. This is achieved using the abc module and @abstractmethod decorator. Abstract classes promote code reusability and enforce rules across different subclasses."
      ],
      "metadata": {
        "id": "zpmcLwe9WB8m"
      }
    },
    {
      "cell_type": "code",
      "source": [
        "from abc import ABC, abstractmethod\n",
        "\n",
        "class Animal(ABC):\n",
        "    @abstractmethod\n",
        "    def sound(self):\n",
        "        pass\n",
        "\n",
        "class Dog(Animal):\n",
        "    def sound(self):\n",
        "        return \"Bark\"\n",
        "\n",
        "dog = Dog()\n",
        "print(dog.sound())"
      ],
      "metadata": {
        "colab": {
          "base_uri": "https://localhost:8080/"
        },
        "id": "ImGYAfIC4suH",
        "outputId": "e40199e4-8f4c-4a5b-8ef6-740b1ec5aab1"
      },
      "execution_count": 1,
      "outputs": [
        {
          "output_type": "stream",
          "name": "stdout",
          "text": [
            "Bark\n"
          ]
        }
      ]
    },
    {
      "cell_type": "markdown",
      "source": [
        "# 16. What are the advantages of OOP?**bold text**"
      ],
      "metadata": {
        "id": "ARJZuUa790-P"
      }
    },
    {
      "cell_type": "markdown",
      "source": [
        "- Code reusability (through inheritance).\n",
        "- Encapsulation (data hiding for better security).\n",
        "- Polymorphism (different implementations for the same interface).\n",
        "- Modularity (code is structured and easier to maintain).\n",
        "- Scalability (adding new features is easier).\n",
        "In Python, OOP makes programs more structured, readable, and closer to real-world problem modeling."
      ],
      "metadata": {
        "id": "blqdqq9w9u8K"
      }
    },
    {
      "cell_type": "code",
      "source": [
        "class Car:\n",
        "    def __init__(self, brand):\n",
        "        self.brand = brand\n",
        "\n",
        "car1 = Car(\"BMW\")\n",
        "car2 = Car(\"Audi\")\n",
        "print(car1.brand, car2.brand)"
      ],
      "metadata": {
        "colab": {
          "base_uri": "https://localhost:8080/"
        },
        "id": "NVONLQt35G5U",
        "outputId": "5fc85697-d2ae-466e-8731-1bcd03613db0"
      },
      "execution_count": 2,
      "outputs": [
        {
          "output_type": "stream",
          "name": "stdout",
          "text": [
            "BMW Audi\n"
          ]
        }
      ]
    },
    {
      "cell_type": "markdown",
      "source": [
        "# **17. What is the difference between a class variable and an instance variable?**"
      ],
      "metadata": {
        "id": "IUnSdBP4956U"
      }
    },
    {
      "cell_type": "markdown",
      "source": [
        "- A class variable is shared across all objects of a class, while an instance variable is unique for each object. Class variables are defined inside the class but outside methods, whereas instance variables are defined inside the constructor (__init__)."
      ],
      "metadata": {
        "id": "dc09dqaE95FA"
      }
    },
    {
      "cell_type": "code",
      "source": [
        "class Student:\n",
        "    school = \"ABC School\"  # class variable\n",
        "    def __init__(self, name):\n",
        "        self.name = name   # instance variable\n",
        "\n",
        "s1 = Student(\"Amit\")\n",
        "s2 = Student(\"Riya\")\n",
        "print(s1.school, s2.school)\n",
        "print(s1.name, s2.name)"
      ],
      "metadata": {
        "colab": {
          "base_uri": "https://localhost:8080/"
        },
        "id": "u3uM7esu5b2s",
        "outputId": "99ed8ab1-4859-4268-adf6-2921195f1a2c"
      },
      "execution_count": 3,
      "outputs": [
        {
          "output_type": "stream",
          "name": "stdout",
          "text": [
            "ABC School ABC School\n",
            "Amit Riya\n"
          ]
        }
      ]
    },
    {
      "cell_type": "markdown",
      "source": [
        "# **18. What is multiple inheritance in Python?**\n",
        "  - Multiple inheritance means that a class can inherit from more than one parent class. This allows a child class to combine features of multiple base classes. However, it may create complexity when methods with the same name appear in parent classes (handled by Method Resolution Order - MRO)."
      ],
      "metadata": {
        "id": "cE73tSd95dlo"
      }
    },
    {
      "cell_type": "code",
      "source": [
        "class Father:\n",
        "    def skill(self):\n",
        "        return \"Driving\"\n",
        "\n",
        "class Mother:\n",
        "    def skill(self):\n",
        "        return \"Cooking\"\n",
        "\n",
        "class Child(Father, Mother):\n",
        "    pass\n",
        "\n",
        "c = Child()\n",
        "print(c.skill())   # Follows MRO"
      ],
      "metadata": {
        "colab": {
          "base_uri": "https://localhost:8080/"
        },
        "id": "TjyNVHRE5pCV",
        "outputId": "c8019d96-1d14-4a03-d7cc-cac487c044a9"
      },
      "execution_count": 4,
      "outputs": [
        {
          "output_type": "stream",
          "name": "stdout",
          "text": [
            "Driving\n"
          ]
        }
      ]
    },
    {
      "cell_type": "markdown",
      "source": [
        "# 19. Explain the purpose of ‘’str’ and ‘repr’ ‘ methods in Python.**bold text**"
      ],
      "metadata": {
        "id": "ag5gGcMt-GeJ"
      }
    },
    {
      "cell_type": "markdown",
      "source": [
        "- In Python, the __str__ and __repr__ methods are special methods used to represent objects as strings, but they serve different purposes. The __str__ method is intended to give a human-readable description of the object, making it more user-friendly when printing. On the other hand, the __repr__ method is meant for developers, returning an “official” string representation of the object that ideally could be used to recreate the same object. If __str__ is not defined, Python automatically falls back to __repr__. Together, these methods enhance debugging and improve how objects are displayed in logs or console output, ensuring clarity for both users and developers."
      ],
      "metadata": {
        "id": "DovlFbJq-EMQ"
      }
    },
    {
      "cell_type": "code",
      "source": [
        "class Student:\n",
        "    def __init__(self, name):\n",
        "        self.name = name\n",
        "\n",
        "    def __str__(self):\n",
        "        return f\"Student Name: {self.name}\"\n",
        "\n",
        "    def __repr__(self):\n",
        "        return f\"Student('{self.name}')\"\n",
        "\n",
        "s = Student(\"Amit\")\n",
        "print(str(s))\n",
        "print(repr(s))"
      ],
      "metadata": {
        "colab": {
          "base_uri": "https://localhost:8080/"
        },
        "id": "zmNwssPx52ei",
        "outputId": "ccc85d26-6acc-4fad-ce67-dc7c064a98c0"
      },
      "execution_count": 5,
      "outputs": [
        {
          "output_type": "stream",
          "name": "stdout",
          "text": [
            "Student Name: Amit\n",
            "Student('Amit')\n"
          ]
        }
      ]
    },
    {
      "cell_type": "markdown",
      "source": [
        "# 20. What is the significance of the ‘super()’ function in Python?**bold text**"
      ],
      "metadata": {
        "id": "QTcjvdyQ-QvM"
      }
    },
    {
      "cell_type": "markdown",
      "source": [
        "- The super() function plays a critical role in object-oriented programming by allowing child classes to access methods or constructors of their parent classes without directly naming them. This makes the code more maintainable and avoids errors if the parent class name changes. It is especially important in the case of multiple inheritance, as Python uses the Method Resolution Order (MRO) to decide which parent’s method to call. By using super(), developers ensure consistent and predictable behavior across complex class hierarchies. It also promotes code reuse by avoiding duplicate logic in child classes when some functionality already exists in the parent."
      ],
      "metadata": {
        "id": "WEP32zN2-ONe"
      }
    },
    {
      "cell_type": "code",
      "source": [
        "class Parent:\n",
        "    def __init__(self):\n",
        "        print(\"Parent Constructor\")\n",
        "\n",
        "class Child(Parent):\n",
        "    def __init__(self):\n",
        "        super().__init__()  # Calls Parent constructor\n",
        "        print(\"Child Constructor\")\n",
        "\n",
        "c = Child()"
      ],
      "metadata": {
        "colab": {
          "base_uri": "https://localhost:8080/"
        },
        "id": "-H0HaLxs6Twv",
        "outputId": "cc6771d3-7562-4961-c93f-be9742710547"
      },
      "execution_count": 6,
      "outputs": [
        {
          "output_type": "stream",
          "name": "stdout",
          "text": [
            "Parent Constructor\n",
            "Child Constructor\n"
          ]
        }
      ]
    },
    {
      "cell_type": "markdown",
      "source": [
        "# **21. What is the significance of the del method in Python?**"
      ],
      "metadata": {
        "id": "EJFj5vFp-r0v"
      }
    },
    {
      "cell_type": "markdown",
      "source": [
        "- The __del__ method is known as the destructor in Python and is automatically called when an object is about to be destroyed by the garbage collector. Its main purpose is to handle cleanup tasks such as releasing resources, closing files, disconnecting from databases, or freeing memory that the object may be holding. While it provides control over the final stage of an object’s lifecycle, it should be used carefully because the exact time of destruction is not always guaranteed (depends on garbage collection). Thus, __del__ is best reserved for essential cleanup operations that cannot be left to automatic memory management."
      ],
      "metadata": {
        "id": "V6U3rWFo-uj1"
      }
    },
    {
      "cell_type": "code",
      "source": [
        "class Test:\n",
        "    def __del__(self):\n",
        "        print(\"Destructor called, object deleted\")\n",
        "\n",
        "t = Test()\n",
        "del t"
      ],
      "metadata": {
        "colab": {
          "base_uri": "https://localhost:8080/"
        },
        "id": "tUQC5U4j6r_N",
        "outputId": "fa4a1cfd-50be-4632-b24d-7880808bee9a"
      },
      "execution_count": 7,
      "outputs": [
        {
          "output_type": "stream",
          "name": "stdout",
          "text": [
            "Destructor called, object deleted\n"
          ]
        }
      ]
    },
    {
      "cell_type": "markdown",
      "source": [
        "# **22. What is the difference between @staticmethod and @classmethod in Python?**"
      ],
      "metadata": {
        "id": "m56LQ1mL-l-g"
      }
    },
    {
      "cell_type": "markdown",
      "source": [
        "- Both @staticmethod and @classmethod are special decorators used to define methods inside a class, but they differ in how they interact with the class. A static method does not take self or cls as its first argument—it behaves like a normal function but is grouped logically inside the class. It is useful for utility functions that do not depend on class or instance data. A class method, on the other hand, takes cls as the first argument, giving it access to class-level variables and allowing it to modify shared state across all objects. In short, static methods are independent of class data, while class methods are tied to the class itself."
      ],
      "metadata": {
        "id": "vbRTPCIJ-o13"
      }
    },
    {
      "cell_type": "code",
      "source": [
        "class Demo:\n",
        "    school = \"ABC\"\n",
        "\n",
        "    @staticmethod\n",
        "    def greet():\n",
        "        return \"Hello!\"   # Independent of class\n",
        "\n",
        "    @classmethod\n",
        "    def change_school(cls, new):\n",
        "        cls.school = new  # Modifies class variable\n",
        "\n",
        "print(Demo.greet())\n",
        "Demo.change_school(\"XYZ\")\n",
        "print(Demo.school)"
      ],
      "metadata": {
        "colab": {
          "base_uri": "https://localhost:8080/"
        },
        "id": "X7qL0PAB61Uu",
        "outputId": "f6ce69ed-9aa6-4321-f96e-83448ca1c9aa"
      },
      "execution_count": 8,
      "outputs": [
        {
          "output_type": "stream",
          "name": "stdout",
          "text": [
            "Hello!\n",
            "XYZ\n"
          ]
        }
      ]
    },
    {
      "cell_type": "markdown",
      "source": [
        "# **23. How does polymorphism work in Python with inheritance?**\n",
        "   - Polymorphism in Python means “many forms,” and in the context of OOP, it allows the same method name to behave differently depending on the object that calls it. With inheritance, polymorphism is achieved when a child class overrides methods from the parent class while keeping the same method signature. This ensures that when a method is called on an object, the appropriate version (parent or child) executes. This feature promotes flexibility and allows a single interface to be used for different types of objects, making programs easier to extend and scale without modifying existing code."
      ],
      "metadata": {
        "id": "Nnpo-yRO66uK"
      }
    },
    {
      "cell_type": "code",
      "source": [
        "class Animal:\n",
        "    def speak(self):\n",
        "        return \"Some sound\"\n",
        "\n",
        "class Dog(Animal):\n",
        "    def speak(self):\n",
        "        return \"Bark\"\n",
        "\n",
        "class Cat(Animal):\n",
        "    def speak(self):\n",
        "        return \"Meow\"\n",
        "\n",
        "a = Animal()\n",
        "d = Dog()\n",
        "c = Cat()\n",
        "print(a.speak(), d.speak(), c.speak())"
      ],
      "metadata": {
        "colab": {
          "base_uri": "https://localhost:8080/"
        },
        "id": "LqyfL21v7C1k",
        "outputId": "9aa922d1-9782-4f97-93d6-e8a75cac2382"
      },
      "execution_count": 9,
      "outputs": [
        {
          "output_type": "stream",
          "name": "stdout",
          "text": [
            "Some sound Bark Meow\n"
          ]
        }
      ]
    },
    {
      "cell_type": "markdown",
      "source": [
        "# 24. What is method chaining in Python OOP?**bold text**"
      ],
      "metadata": {
        "id": "GIUyJsNd-hkI"
      }
    },
    {
      "cell_type": "markdown",
      "source": [
        "- Method chaining is a design technique where multiple methods are called on the same object in a single line. This is achieved when each method returns self (the object itself) instead of None. It improves code readability by reducing the number of lines and making operations look like a sequence of steps. Method chaining is widely used in frameworks like Pandas, Django, and SQLAlchemy, where multiple operations can be performed fluently. It makes programs elegant, but developers should ensure clarity, as chaining too many methods may make debugging harder."
      ],
      "metadata": {
        "id": "CciW9hJX-fP3"
      }
    },
    {
      "cell_type": "code",
      "source": [
        "class Number:\n",
        "    def __init__(self, value):\n",
        "        self.value = value\n",
        "    def add(self, n):\n",
        "        self.value += n\n",
        "        return self\n",
        "    def subtract(self, n):\n",
        "        self.value -= n\n",
        "        return self\n",
        "\n",
        "n = Number(10).add(5).subtract(3)\n",
        "print(n.value)"
      ],
      "metadata": {
        "colab": {
          "base_uri": "https://localhost:8080/"
        },
        "id": "SWzS-ewW7PkD",
        "outputId": "300ac014-e688-4a91-9bb6-078178f3fd31"
      },
      "execution_count": 10,
      "outputs": [
        {
          "output_type": "stream",
          "name": "stdout",
          "text": [
            "12\n"
          ]
        }
      ]
    },
    {
      "cell_type": "markdown",
      "source": [
        "# 25. What is the purpose of the call method in Python?**bold text**"
      ],
      "metadata": {
        "id": "40IqHUs7-bDJ"
      }
    },
    {
      "cell_type": "markdown",
      "source": [
        "- The __call__ method in Python makes an object behave like a function, meaning you can “call” an object with parentheses as if it were a function. This feature is particularly useful in scenarios like decorators, function wrappers, or machine learning models, where objects need to be invoked multiple times with varying inputs. By defining __call__, you allow a class instance to maintain state (like storing data or parameters) while also being directly executable. This combination of object state + function behavior makes it very powerful for designing reusable and flexible components in Python."
      ],
      "metadata": {
        "id": "M1Ld5dBE-ZCM"
      }
    },
    {
      "cell_type": "code",
      "source": [
        "class Adder:\n",
        "    def __init__(self, num):\n",
        "        self.num = num\n",
        "    def __call__(self, x):\n",
        "        return self.num + x\n",
        "\n",
        "add5 = Adder(5)\n",
        "print(add5(10))   # Object called like a function"
      ],
      "metadata": {
        "colab": {
          "base_uri": "https://localhost:8080/"
        },
        "id": "YWNXBOpc7YQi",
        "outputId": "2e9a510f-9506-4e07-cd22-16bc9458b53d"
      },
      "execution_count": 11,
      "outputs": [
        {
          "output_type": "stream",
          "name": "stdout",
          "text": [
            "15\n"
          ]
        }
      ]
    },
    {
      "cell_type": "markdown",
      "source": [
        "## **Practical Questions**"
      ],
      "metadata": {
        "id": "-dEd2bxt-8WH"
      }
    },
    {
      "cell_type": "markdown",
      "source": [
        "#1. Create a parent class Animal with a method speak() that prints a generic message. Create a child class Dog  that overrides the speak() method to print \"Bark!\""
      ],
      "metadata": {
        "id": "dP-ihdNi_EzZ"
      }
    },
    {
      "cell_type": "code",
      "source": [
        "class Animal:\n",
        "    def speak(self):\n",
        "        print(\"This animal makes a sound.\")\n",
        "\n",
        "class Dog(Animal):\n",
        "    def speak(self):\n",
        "        print(\"Bark!\")\n",
        "\n",
        "# Example\n",
        "d = Dog()\n",
        "d.speak()"
      ],
      "metadata": {
        "colab": {
          "base_uri": "https://localhost:8080/"
        },
        "id": "L3ZpVfwg_h4z",
        "outputId": "ca1dcb76-7364-464e-a2e4-7cba5c3e64ae"
      },
      "execution_count": 12,
      "outputs": [
        {
          "output_type": "stream",
          "name": "stdout",
          "text": [
            "Bark!\n"
          ]
        }
      ]
    },
    {
      "cell_type": "markdown",
      "source": [
        "#2. Write a program to create an abstract class Shape with a method area(). Derive classes Circle and Rectangle from it and implement the area() method in both."
      ],
      "metadata": {
        "id": "7HHeLRMQ_krs"
      }
    },
    {
      "cell_type": "code",
      "source": [
        "from abc import ABC, abstractmethod\n",
        "\n",
        "class Shape(ABC):\n",
        "    @abstractmethod\n",
        "    def area(self):\n",
        "        pass\n",
        "\n",
        "class Circle(Shape):\n",
        "    def __init__(self, radius):\n",
        "        self.radius = radius\n",
        "\n",
        "    def area(self):\n",
        "        return 3.14 * self.radius * self.radius\n",
        "\n",
        "class Rectangle(Shape):\n",
        "    def __init__(self, length, width):\n",
        "        self.length = length\n",
        "        self.width = width\n",
        "\n",
        "    def area(self):\n",
        "        return self.length * self.width\n",
        "\n",
        "# Example\n",
        "c = Circle(5)\n",
        "r = Rectangle(4, 6)\n",
        "print(\"Circle Area:\", c.area())\n",
        "print(\"Rectangle Area:\", r.area())"
      ],
      "metadata": {
        "colab": {
          "base_uri": "https://localhost:8080/"
        },
        "id": "k_xcKOHQ_xrN",
        "outputId": "69ea610e-b0eb-4a89-fdb7-57dda8a25b2a"
      },
      "execution_count": 13,
      "outputs": [
        {
          "output_type": "stream",
          "name": "stdout",
          "text": [
            "Circle Area: 78.5\n",
            "Rectangle Area: 24\n"
          ]
        }
      ]
    },
    {
      "cell_type": "markdown",
      "source": [
        "#3. Implement a multi-level inheritance scenario where a class Vehicle has an attribute type. Derive a class Car and further derive a class ElectricCar that adds a battery attribute."
      ],
      "metadata": {
        "id": "txs47lRz_0Qe"
      }
    },
    {
      "cell_type": "code",
      "source": [
        "class Vehicle:\n",
        "    def __init__(self, type):\n",
        "        self.type = type\n",
        "\n",
        "class Car(Vehicle):\n",
        "    def __init__(self, type, brand):\n",
        "        super().__init__(type)\n",
        "        self.brand = brand\n",
        "\n",
        "class ElectricCar(Car):\n",
        "    def __init__(self, type, brand, battery):\n",
        "        super().__init__(type, brand)\n",
        "        self.battery = battery\n",
        "\n",
        "# Example\n",
        "e = ElectricCar(\"Car\", \"Tesla\", \"100 kWh\")\n",
        "print(e.type, e.brand, e.battery)"
      ],
      "metadata": {
        "colab": {
          "base_uri": "https://localhost:8080/"
        },
        "id": "5o2PPspq_50N",
        "outputId": "cd19dc37-ba1c-46df-97eb-7747f5dfbadf"
      },
      "execution_count": 14,
      "outputs": [
        {
          "output_type": "stream",
          "name": "stdout",
          "text": [
            "Car Tesla 100 kWh\n"
          ]
        }
      ]
    },
    {
      "cell_type": "markdown",
      "source": [
        "#4. Demonstrate polymorphism by creating a base class Bird with a method fly(). Create two derived classes Sparrow and Penguin that override the fly() method."
      ],
      "metadata": {
        "id": "hvILDLZt_9k0"
      }
    },
    {
      "cell_type": "code",
      "source": [
        "class Bird:\n",
        "    def fly(self):\n",
        "        print(\"Some birds can fly.\")\n",
        "\n",
        "class Sparrow(Bird):\n",
        "    def fly(self):\n",
        "        print(\"Sparrow flies high!\")\n",
        "\n",
        "class Penguin(Bird):\n",
        "    def fly(self):\n",
        "        print(\"Penguins cannot fly.\")\n",
        "\n",
        "# Example\n",
        "for b in [Sparrow(), Penguin()]:\n",
        "    b.fly()"
      ],
      "metadata": {
        "colab": {
          "base_uri": "https://localhost:8080/"
        },
        "id": "G-gWQW3ZAFMf",
        "outputId": "9c3e80a7-676c-48f0-ef18-141009bf356b"
      },
      "execution_count": 15,
      "outputs": [
        {
          "output_type": "stream",
          "name": "stdout",
          "text": [
            "Sparrow flies high!\n",
            "Penguins cannot fly.\n"
          ]
        }
      ]
    },
    {
      "cell_type": "markdown",
      "source": [
        "#5. Write a program to demonstrate encapsulation by creating a class BankAccount with private attributes balance and methods to deposit, withdraw, and check balance."
      ],
      "metadata": {
        "id": "Nvf5kOXvAG5X"
      }
    },
    {
      "cell_type": "code",
      "source": [
        "class BankAccount:\n",
        "    def __init__(self, balance=0):\n",
        "        self.__balance = balance   # private attribute\n",
        "\n",
        "    def deposit(self, amount):\n",
        "        self.__balance += amount\n",
        "\n",
        "    def withdraw(self, amount):\n",
        "        if amount <= self.__balance:\n",
        "            self.__balance -= amount\n",
        "        else:\n",
        "            print(\"Insufficient balance!\")\n",
        "\n",
        "    def check_balance(self):\n",
        "        return self.__balance\n",
        "\n",
        "# Example\n",
        "acc = BankAccount(1000)\n",
        "acc.deposit(500)\n",
        "acc.withdraw(200)\n",
        "print(\"Balance:\", acc.check_balance())"
      ],
      "metadata": {
        "colab": {
          "base_uri": "https://localhost:8080/"
        },
        "id": "ZhCLPHu-ALEM",
        "outputId": "1fec81f2-9702-4a72-a95f-f167d80836c9"
      },
      "execution_count": 16,
      "outputs": [
        {
          "output_type": "stream",
          "name": "stdout",
          "text": [
            "Balance: 1300\n"
          ]
        }
      ]
    },
    {
      "cell_type": "markdown",
      "source": [
        "#6. Demonstrate runtime polymorphism using a method play() in a base class Instrument. Derive classes Guitar and Piano that implement their own version of play()."
      ],
      "metadata": {
        "id": "uUNKu6xlAR03"
      }
    },
    {
      "cell_type": "code",
      "source": [
        "class Instrument:\n",
        "    def play(self):\n",
        "        print(\"Instrument is playing.\")\n",
        "\n",
        "class Guitar(Instrument):\n",
        "    def play(self):\n",
        "        print(\"Guitar is strumming.\")\n",
        "\n",
        "class Piano(Instrument):\n",
        "    def play(self):\n",
        "        print(\"Piano is playing melody.\")\n",
        "\n",
        "# Example\n",
        "for i in [Guitar(), Piano()]:\n",
        "    i.play()\n"
      ],
      "metadata": {
        "colab": {
          "base_uri": "https://localhost:8080/"
        },
        "id": "mpvVHkf0AZzt",
        "outputId": "1120d306-f7e8-45b4-859d-66bba173bf1c"
      },
      "execution_count": 17,
      "outputs": [
        {
          "output_type": "stream",
          "name": "stdout",
          "text": [
            "Guitar is strumming.\n",
            "Piano is playing melody.\n"
          ]
        }
      ]
    },
    {
      "cell_type": "markdown",
      "source": [
        "#7. Create a class MathOperations with a class method add_numbers() to add two numbers and a static method subtract_numbers() to subtract two numbers."
      ],
      "metadata": {
        "id": "8Db7RKzjATTE"
      }
    },
    {
      "cell_type": "code",
      "source": [
        "class MathOperations:\n",
        "    @classmethod\n",
        "    def add_numbers(cls, a, b):\n",
        "        return a + b\n",
        "\n",
        "    @staticmethod\n",
        "    def subtract_numbers(a, b):\n",
        "        return a - b\n",
        "\n",
        "# Example\n",
        "print(MathOperations.add_numbers(10, 5))\n",
        "print(MathOperations.subtract_numbers(10, 5))"
      ],
      "metadata": {
        "colab": {
          "base_uri": "https://localhost:8080/"
        },
        "id": "5ETLSN5TAdZG",
        "outputId": "ccd0ad69-88bd-4404-bd14-21dda4309876"
      },
      "execution_count": 18,
      "outputs": [
        {
          "output_type": "stream",
          "name": "stdout",
          "text": [
            "15\n",
            "5\n"
          ]
        }
      ]
    },
    {
      "cell_type": "markdown",
      "source": [
        "#8. Implement a class Person with a class method to count the total number of persons created"
      ],
      "metadata": {
        "id": "fZJMP-tXAYFF"
      }
    },
    {
      "cell_type": "code",
      "source": [
        "class Person:\n",
        "    count = 0\n",
        "\n",
        "    def __init__(self, name):\n",
        "        self.name = name\n",
        "        Person.count += 1\n",
        "\n",
        "    @classmethod\n",
        "    def total_persons(cls):\n",
        "        return cls.count\n",
        "\n",
        "# Example\n",
        "p1 = Person(\"A\")\n",
        "p2 = Person(\"B\")\n",
        "print(\"Total persons:\", Person.total_persons())"
      ],
      "metadata": {
        "colab": {
          "base_uri": "https://localhost:8080/"
        },
        "id": "0017Bkz5Amv1",
        "outputId": "b30375f1-d1ee-496e-e695-a81c71ea3428"
      },
      "execution_count": 19,
      "outputs": [
        {
          "output_type": "stream",
          "name": "stdout",
          "text": [
            "Total persons: 2\n"
          ]
        }
      ]
    },
    {
      "cell_type": "markdown",
      "source": [
        "#9. Write a class Fraction with attributes numerator and denominator. Override the str method to display the fraction as \"numerator/denominator\"."
      ],
      "metadata": {
        "id": "X6nXFwKQAoCW"
      }
    },
    {
      "cell_type": "code",
      "source": [
        "class Fraction:\n",
        "    def __init__(self, numerator, denominator):\n",
        "        self.numerator = numerator\n",
        "        self.denominator = denominator\n",
        "\n",
        "    def __str__(self):\n",
        "        return f\"{self.numerator}/{self.denominator}\"\n",
        "\n",
        "# Example\n",
        "f = Fraction(3, 4)\n",
        "print(f)"
      ],
      "metadata": {
        "colab": {
          "base_uri": "https://localhost:8080/"
        },
        "id": "WOC8os2DA60c",
        "outputId": "f6183b9e-f7eb-43c8-d66b-1cd2959f335e"
      },
      "execution_count": 20,
      "outputs": [
        {
          "output_type": "stream",
          "name": "stdout",
          "text": [
            "3/4\n"
          ]
        }
      ]
    },
    {
      "cell_type": "markdown",
      "source": [
        "#10. Demonstrate operator overloading by creating a class Vector and overriding the add method to add two vectors."
      ],
      "metadata": {
        "id": "D_odsk7XAq_n"
      }
    },
    {
      "cell_type": "code",
      "source": [
        "class Vector:\n",
        "    def __init__(self, x, y):\n",
        "        self.x = x\n",
        "        self.y = y\n",
        "\n",
        "    def __add__(self, other):\n",
        "        return Vector(self.x + other.x, self.y + other.y)\n",
        "\n",
        "    def __str__(self):\n",
        "        return f\"({self.x}, {self.y})\"\n",
        "\n",
        "# Example\n",
        "v1 = Vector(2, 3)\n",
        "v2 = Vector(4, 5)\n",
        "print(v1 + v2)"
      ],
      "metadata": {
        "colab": {
          "base_uri": "https://localhost:8080/"
        },
        "id": "DaRxaJAXA8e7",
        "outputId": "c09bf601-6314-4ffb-fe37-83df69f72790"
      },
      "execution_count": 21,
      "outputs": [
        {
          "output_type": "stream",
          "name": "stdout",
          "text": [
            "(6, 8)\n"
          ]
        }
      ]
    },
    {
      "cell_type": "markdown",
      "source": [
        "#11. Create a class Person with attributes name and age. Add a method greet() that prints \"Hello, my name is {name} and I am {age} years old.\""
      ],
      "metadata": {
        "id": "cpH9J7hxAtaA"
      }
    },
    {
      "cell_type": "code",
      "source": [
        "class Person:\n",
        "    def __init__(self, name, age):\n",
        "        self.name = name\n",
        "        self.age = age\n",
        "\n",
        "    def greet(self):\n",
        "        print(f\"Hello, my name is {self.name} and I am {self.age} years old.\")\n",
        "\n",
        "# Example\n",
        "p = Person(\"Akanksha\", 20)\n",
        "p.greet()"
      ],
      "metadata": {
        "colab": {
          "base_uri": "https://localhost:8080/"
        },
        "id": "ifK9EmpwBA3f",
        "outputId": "88b3b374-c706-42b8-acfd-e89df8dead67"
      },
      "execution_count": 22,
      "outputs": [
        {
          "output_type": "stream",
          "name": "stdout",
          "text": [
            "Hello, my name is Akanksha and I am 20 years old.\n"
          ]
        }
      ]
    },
    {
      "cell_type": "markdown",
      "source": [
        "#12. Implement a class Student with attributes name and grades. Create a method average_grade() to compute the average of the grades."
      ],
      "metadata": {
        "id": "B6wMFNtnAxLM"
      }
    },
    {
      "cell_type": "code",
      "source": [
        "class Student:\n",
        "    def __init__(self, name, grades):\n",
        "        self.name = name\n",
        "        self.grades = grades\n",
        "\n",
        "    def average_grade(self):\n",
        "        return sum(self.grades) / len(self.grades)\n",
        "\n",
        "# Example\n",
        "s = Student(\"Ravi\", [80, 90, 70])\n",
        "print(\"Average:\", s.average_grade())"
      ],
      "metadata": {
        "colab": {
          "base_uri": "https://localhost:8080/"
        },
        "id": "IhufYVKLBFE2",
        "outputId": "81825083-298c-4266-fc84-69d43bb3f016"
      },
      "execution_count": 23,
      "outputs": [
        {
          "output_type": "stream",
          "name": "stdout",
          "text": [
            "Average: 80.0\n"
          ]
        }
      ]
    },
    {
      "cell_type": "markdown",
      "source": [
        "#13. Create a class Rectangle with methods set_dimensions() to set the dimensions and area() to calculate the area."
      ],
      "metadata": {
        "id": "dx9T2ioLAzQ4"
      }
    },
    {
      "cell_type": "code",
      "source": [
        "class Rectangle:\n",
        "    def set_dimensions(self, length, width):\n",
        "        self.length = length\n",
        "        self.width = width\n",
        "\n",
        "    def area(self):\n",
        "        return self.length * self.width\n",
        "\n",
        "# Example\n",
        "r = Rectangle()\n",
        "r.set_dimensions(5, 3)\n",
        "print(\"Area:\", r.area())"
      ],
      "metadata": {
        "colab": {
          "base_uri": "https://localhost:8080/"
        },
        "id": "9zREjZZSBINk",
        "outputId": "0d74cba4-c9bc-4919-bca9-31ec6c1e6e7b"
      },
      "execution_count": 24,
      "outputs": [
        {
          "output_type": "stream",
          "name": "stdout",
          "text": [
            "Area: 15\n"
          ]
        }
      ]
    },
    {
      "cell_type": "markdown",
      "source": [
        "#14. Create a class Employee with a method calculate_salary() that computes the salary based on hours worked and hourly rate. Create a derived class Manager that adds a bonus to the salary."
      ],
      "metadata": {
        "id": "rzZCHsV7A3VG"
      }
    },
    {
      "cell_type": "code",
      "source": [
        "class Employee:\n",
        "    def __init__(self, hours, rate):\n",
        "        self.hours = hours\n",
        "        self.rate = rate\n",
        "\n",
        "    def calculate_salary(self):\n",
        "        return self.hours * self.rate\n",
        "\n",
        "class Manager(Employee):\n",
        "    def __init__(self, hours, rate, bonus):\n",
        "        super().__init__(hours, rate)\n",
        "        self.bonus = bonus\n",
        "\n",
        "    def calculate_salary(self):\n",
        "        return super().calculate_salary() + self.bonus\n",
        "\n",
        "# Example\n",
        "m = Manager(40, 50, 500)\n",
        "print(\"Manager Salary:\", m.calculate_salary())"
      ],
      "metadata": {
        "colab": {
          "base_uri": "https://localhost:8080/"
        },
        "id": "p4PCqjtBBN2R",
        "outputId": "8014c771-6cc8-4692-d8ac-555ae2822187"
      },
      "execution_count": 25,
      "outputs": [
        {
          "output_type": "stream",
          "name": "stdout",
          "text": [
            "Manager Salary: 2500\n"
          ]
        }
      ]
    },
    {
      "cell_type": "markdown",
      "source": [
        "#15. Create a class Product with attributes name, price, and quantity. Implement a method total_price() that calculates the total price of the product."
      ],
      "metadata": {
        "id": "Q2aLvmbmBQes"
      }
    },
    {
      "cell_type": "code",
      "source": [
        "class Product:\n",
        "    def __init__(self, name, price, quantity):\n",
        "        self.name = name\n",
        "        self.price = price\n",
        "        self.quantity = quantity\n",
        "\n",
        "    def total_price(self):\n",
        "        return self.price * self.quantity\n",
        "\n",
        "# Example\n",
        "p = Product(\"Laptop\", 50000, 2)\n",
        "print(\"Total Price:\", p.total_price())"
      ],
      "metadata": {
        "colab": {
          "base_uri": "https://localhost:8080/"
        },
        "id": "G5tsZyFHBsqj",
        "outputId": "1f0cc00e-e5a5-4f3b-ccc7-7d2ae9e81394"
      },
      "execution_count": 26,
      "outputs": [
        {
          "output_type": "stream",
          "name": "stdout",
          "text": [
            "Total Price: 100000\n"
          ]
        }
      ]
    },
    {
      "cell_type": "markdown",
      "source": [
        "#16. Create a class Animal with an abstract method sound(). Create two derived classes Cow and Sheep that implement the sound() method."
      ],
      "metadata": {
        "id": "jEW61g0qBUKQ"
      }
    },
    {
      "cell_type": "code",
      "source": [
        "from abc import ABC, abstractmethod\n",
        "\n",
        "class Animal(ABC):\n",
        "    @abstractmethod\n",
        "    def sound(self):\n",
        "        pass\n",
        "\n",
        "class Cow(Animal):\n",
        "    def sound(self):\n",
        "        print(\"Moo!\")\n",
        "\n",
        "class Sheep(Animal):\n",
        "    def sound(self):\n",
        "        print(\"Baa!\")\n",
        "\n",
        "# Example\n",
        "Cow().sound()\n",
        "Sheep().sound()"
      ],
      "metadata": {
        "colab": {
          "base_uri": "https://localhost:8080/"
        },
        "id": "wU9eeoyVBuZQ",
        "outputId": "81c787e3-4dfa-4909-adb2-2c5030c868ec"
      },
      "execution_count": 27,
      "outputs": [
        {
          "output_type": "stream",
          "name": "stdout",
          "text": [
            "Moo!\n",
            "Baa!\n"
          ]
        }
      ]
    },
    {
      "cell_type": "markdown",
      "source": [
        "#17. Create a class Book with attributes title, author, and year_published. Add a method get_book_info() that returns a formatted string with the book's details."
      ],
      "metadata": {
        "id": "2alhD2pHBYJR"
      }
    },
    {
      "cell_type": "code",
      "source": [
        "class Book:\n",
        "    def __init__(self, title, author, year_published):\n",
        "        self.title = title\n",
        "        self.author = author\n",
        "        self.year_published = year_published\n",
        "\n",
        "    def get_book_info(self):\n",
        "        return f\"'{self.title}' by {self.author}, published in {self.year_published}\"\n",
        "\n",
        "# Example\n",
        "b = Book(\"The Alchemist\", \"Paulo Coelho\", 1988)\n",
        "print(b.get_book_info())"
      ],
      "metadata": {
        "colab": {
          "base_uri": "https://localhost:8080/"
        },
        "id": "A9_APBD6B1TA",
        "outputId": "0715540b-e451-4106-a70b-7d68f28748bc"
      },
      "execution_count": 28,
      "outputs": [
        {
          "output_type": "stream",
          "name": "stdout",
          "text": [
            "'The Alchemist' by Paulo Coelho, published in 1988\n"
          ]
        }
      ]
    },
    {
      "cell_type": "markdown",
      "source": [
        "#18. Create a class House with attributes address and price. Create a derived class Mansion that adds an attribute number_of_rooms."
      ],
      "metadata": {
        "id": "WOVOf5cOBbUa"
      }
    },
    {
      "cell_type": "code",
      "source": [
        "class House:\n",
        "    def __init__(self, address, price):\n",
        "        self.address = address\n",
        "        self.price = price\n",
        "\n",
        "class Mansion(House):\n",
        "    def __init__(self, address, price, number_of_rooms):\n",
        "        super().__init__(address, price)\n",
        "        self.number_of_rooms = number_of_rooms\n",
        "\n",
        "# Example\n",
        "m = Mansion(\"123 Street, Mumbai\", 50000000, 10)\n",
        "print(m.address, m.price, \"Rooms:\", m.number_of_rooms)"
      ],
      "metadata": {
        "colab": {
          "base_uri": "https://localhost:8080/"
        },
        "id": "LABEV47hB5TF",
        "outputId": "e87df7dd-440e-40ab-d2cc-248ae64f5ee6"
      },
      "execution_count": 29,
      "outputs": [
        {
          "output_type": "stream",
          "name": "stdout",
          "text": [
            "123 Street, Mumbai 50000000 Rooms: 10\n"
          ]
        }
      ]
    }
  ]
}